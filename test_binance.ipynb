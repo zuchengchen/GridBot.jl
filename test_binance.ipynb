{
 "cells": [
  {
   "cell_type": "code",
   "execution_count": 17,
   "metadata": {},
   "outputs": [
    {
     "data": {
      "text/plain": [
       "calc_bankruptcy_price (generic function with 1 method)"
      ]
     },
     "execution_count": 17,
     "metadata": {},
     "output_type": "execute_result"
    }
   ],
   "source": [
    "include(\"src/init.jl\")"
   ]
  },
  {
   "cell_type": "code",
   "execution_count": 2,
   "metadata": {},
   "outputs": [
    {
     "data": {
      "text/plain": [
       "Account(100, 100, 100, 0.0, NaN, NaN, NaN, NaN, 1.0, 1.0, 0.0, 0.0, 0.0, 0.0, 20, 0.5, 0.01, 1.5, Any[], #undef, #undef)"
      ]
     },
     "execution_count": 2,
     "metadata": {},
     "output_type": "execute_result"
    }
   ],
   "source": [
    "abstract type Exchange end\n",
    "mutable struct Account <: Exchange\n",
    "    starting_balance\n",
    "    wallet_balance\n",
    "    margin_balance\n",
    "    notional_balance\n",
    "    \n",
    "    pos_size\n",
    "    entry_price\n",
    "    reentry_pos_size\n",
    "    reentry_price\n",
    "    target_price\n",
    "    liq_price\n",
    "    \n",
    "    closest_long_liq\n",
    "    closest_shrt_liq\n",
    "    \n",
    "    pnl_plus_fees_cumsum\n",
    "    loss_cumsum\n",
    "    profit_cumsum\n",
    "    fee_paid_cumsum\n",
    "    \n",
    "    leverage\n",
    "    max_balance_pct\n",
    "    entry_qty_pct\n",
    "    reentry_factor\n",
    "    \n",
    "    order\n",
    "    \n",
    "    function Account(settings::Dict)\n",
    "        ss = settings\n",
    "        starting_balance = ss[\"starting_balance\"]\n",
    "        wallet_balance = ss[\"starting_balance\"]\n",
    "        margin_balance = ss[\"starting_balance\"]\n",
    "        notional_balance = 0.0\n",
    "        pos_size = 0.0\n",
    "        entry_price = NaN\n",
    "        reentry_price = NaN\n",
    "        target_price = NaN\n",
    "        liq_price = NaN\n",
    "        closest_long_liq = 1.0\n",
    "        closest_shrt_liq = 1.0\n",
    "        pnl_plus_fees_cumsum = 0.0\n",
    "        loss_cumsum = 0.0\n",
    "        profit_cumsum = 0.0\n",
    "        fee_paid_cumsum = 0.0\n",
    "        leverage = ss[\"leverage\"]\n",
    "        max_balance_pct = ss[\"max_balance_pct\"]\n",
    "        entry_qty_pct = ss[\"entry_qty_pct\"]\n",
    "        reentry_factor = ss[\"reentry_factor\"]\n",
    "        order = []\n",
    "        \n",
    "        new(starting_balance, wallet_balance, margin_balance, pos_size, entry_price, \n",
    "            reentry_price, target_price, \n",
    "            liq_price, closest_long_liq, closest_shrt_liq, pnl_plus_fees_cumsum,\n",
    "            loss_cumsum, profit_cumsum, fee_paid_cumsum, leverage, max_balance_pct, \n",
    "            entry_qty_pct, reentry_factor, order)\n",
    "    end\n",
    "        \n",
    "end\n",
    "\n",
    "\n",
    "settings = Dict(\"starting_balance\" => 100, \n",
    "    \"leverage\" => 20,\n",
    "    \"max_balance_pct\" => 0.5,\n",
    "    \"entry_qty_pct\" => 0.01,\n",
    "    \"reentry_factor\" => 1.5\n",
    ")\n",
    "account = Account(settings)"
   ]
  },
  {
   "cell_type": "code",
   "execution_count": 3,
   "metadata": {},
   "outputs": [
    {
     "data": {
      "text/plain": [
       "get_keys (generic function with 1 method)"
      ]
     },
     "execution_count": 3,
     "metadata": {},
     "output_type": "execute_result"
    }
   ],
   "source": [
    "function get_keys()\n",
    "    return [\"inverse\", \"do_long\", \"do_shrt\", \"qty_step\", \"price_step\", \"min_qty\", \"min_cost\",\n",
    "            \"contract_multiplier\", \"ddown_factor\", \"qty_pct\", \"leverage\", \"n_close_orders\",\n",
    "            \"grid_spacing\", \"pos_margin_grid_coeff\", \"volatility_grid_coeff\",\n",
    "            \"volatility_qty_coeff\", \"min_markup\", \"markup_range\", \"ema_span\", \"ema_spread\",\n",
    "            \"stop_loss_liq_diff\", \"stop_loss_pos_pct\", \"entry_liq_diff_thr\"]\n",
    "end"
   ]
  },
  {
   "cell_type": "code",
   "execution_count": 11,
   "metadata": {},
   "outputs": [
    {
     "data": {
      "text/plain": [
       "true"
      ]
     },
     "execution_count": 11,
     "metadata": {},
     "output_type": "execute_result"
    }
   ],
   "source": [
    "d = get_keys()\n",
    "\n",
    "typeof(d) == Array{String,1}"
   ]
  },
  {
   "cell_type": "code",
   "execution_count": 12,
   "metadata": {},
   "outputs": [
    {
     "ename": "LoadError",
     "evalue": "\u001b[91mUndefVarError: sort_dict_keys not defined\u001b[39m",
     "output_type": "error",
     "traceback": [
      "\u001b[91mUndefVarError: sort_dict_keys not defined\u001b[39m",
      "",
      "Stacktrace:",
      " [1] top-level scope at In[12]:2",
      " [2] include_string(::Function, ::Module, ::String, ::String) at ./loading.jl:1091"
     ]
    }
   ],
   "source": [
    " if typeof(d) == Array{String,1}\n",
    "        [sort_dict_keys(e) for e in d]\n",
    "    end"
   ]
  },
  {
   "cell_type": "code",
   "execution_count": 14,
   "metadata": {},
   "outputs": [
    {
     "data": {
      "text/plain": [
       "Dict{String,Int64} with 2 entries:\n",
       "  \"B\" => 2\n",
       "  \"A\" => 1"
      ]
     },
     "execution_count": 14,
     "metadata": {},
     "output_type": "execute_result"
    }
   ],
   "source": [
    "Dict(\"A\"=>1, \"B\"=>2)"
   ]
  },
  {
   "cell_type": "code",
   "execution_count": null,
   "metadata": {},
   "outputs": [],
   "source": [
    "function sort_dict_keys(d)\n",
    "    if typeof(d) == Array{String,1}\n",
    "        return [sort_dict_keys(e) for e in d]\n",
    "    end\n",
    "    if typeof(d) != Array{String,1}\n",
    "        return d\n",
    "    end\n",
    "    \n",
    "    return {key => sort_dict_keys(d[key]) for key in sorted(d)}\n",
    "    end"
   ]
  }
 ],
 "metadata": {
  "kernelspec": {
   "display_name": "Julia 1.5.3",
   "language": "julia",
   "name": "julia-1.5"
  },
  "language_info": {
   "file_extension": ".jl",
   "mimetype": "application/julia",
   "name": "julia",
   "version": "1.5.3"
  }
 },
 "nbformat": 4,
 "nbformat_minor": 4
}
