{
 "cells": [
  {
   "cell_type": "code",
   "execution_count": 17,
   "metadata": {},
   "outputs": [
    {
     "data": {
      "text/plain": [
       "calc_bankruptcy_price (generic function with 1 method)"
      ]
     },
     "execution_count": 17,
     "metadata": {},
     "output_type": "execute_result"
    }
   ],
   "source": [
    "include(\"src/init.jl\")"
   ]
  },
  {
   "cell_type": "code",
   "execution_count": 8,
   "metadata": {},
   "outputs": [
    {
     "data": {
      "text/plain": [
       "(3.14, 0.142)"
      ]
     },
     "execution_count": 8,
     "metadata": {},
     "output_type": "execute_result"
    }
   ],
   "source": [
    "round_dynamic(3.1415, 3), round_dynamic(0.1415, 3)"
   ]
  },
  {
   "cell_type": "code",
   "execution_count": 9,
   "metadata": {},
   "outputs": [
    {
     "data": {
      "text/plain": [
       "(\"0.05\", \"-0.05\", \"0\", \"0\")"
      ]
     },
     "execution_count": 9,
     "metadata": {},
     "output_type": "execute_result"
    }
   ],
   "source": [
    "format_float(0.05), format_float(-0.05), format_float(0.0), format_float(-0)"
   ]
  },
  {
   "cell_type": "code",
   "execution_count": 10,
   "metadata": {},
   "outputs": [
    {
     "data": {
      "text/plain": [
       "(\".0518\", \"-.0518\", \"-0\")"
      ]
     },
     "execution_count": 10,
     "metadata": {},
     "output_type": "execute_result"
    }
   ],
   "source": [
    "compress_float(0.051848, 3), compress_float(-0.051848, 3), compress_float(-0.0000, 3)"
   ]
  },
  {
   "cell_type": "code",
   "execution_count": 11,
   "metadata": {},
   "outputs": [
    {
     "data": {
      "text/plain": [
       "(3.2, 3.15, 3.5)"
      ]
     },
     "execution_count": 11,
     "metadata": {},
     "output_type": "execute_result"
    }
   ],
   "source": [
    "round_up(3.14159, 0.1), round_up(3.14159, 0.01), round_up(3.14159, 0.5)"
   ]
  },
  {
   "cell_type": "code",
   "execution_count": 12,
   "metadata": {},
   "outputs": [
    {
     "data": {
      "text/plain": [
       "(3.1, 3.14, 3.0)"
      ]
     },
     "execution_count": 12,
     "metadata": {},
     "output_type": "execute_result"
    }
   ],
   "source": [
    "round_dn(3.14159, 0.1), round_dn(3.14159, 0.01), round_dn(3.14159, 0.5)"
   ]
  },
  {
   "cell_type": "code",
   "execution_count": 13,
   "metadata": {},
   "outputs": [
    {
     "data": {
      "text/plain": [
       "(3.1, 3.14, 3.0)"
      ]
     },
     "execution_count": 13,
     "metadata": {},
     "output_type": "execute_result"
    }
   ],
   "source": [
    "round_(3.14159, 0.1), round_(3.14159, 0.01), round_(3.14159, 0.5)"
   ]
  },
  {
   "cell_type": "code",
   "execution_count": 15,
   "metadata": {},
   "outputs": [
    {
     "data": {
      "text/plain": [
       "(0.5, -0.5)"
      ]
     },
     "execution_count": 15,
     "metadata": {},
     "output_type": "execute_result"
    }
   ],
   "source": [
    "calc_diff(1.5, 1.0), calc_diff(0.5, 1.0)"
   ]
  },
  {
   "cell_type": "code",
   "execution_count": 16,
   "metadata": {},
   "outputs": [
    {
     "data": {
      "text/plain": [
       "(0, 0.5, -0.5)"
      ]
     },
     "execution_count": 16,
     "metadata": {},
     "output_type": "execute_result"
    }
   ],
   "source": [
    "nan_to_0(0), nan_to_0(0.5), nan_to_0(-0.5)"
   ]
  },
  {
   "cell_type": "code",
   "execution_count": 18,
   "metadata": {},
   "outputs": [
    {
     "data": {
      "text/plain": [
       "2.9"
      ]
     },
     "execution_count": 18,
     "metadata": {},
     "output_type": "execute_result"
    }
   ],
   "source": [
    "alpha, alpha_, prev_ema, new_val = 0.5, 0.3, 3, 4\n",
    "calc_ema(alpha, alpha_, prev_ema, new_val)"
   ]
  },
  {
   "cell_type": "code",
   "execution_count": 20,
   "metadata": {},
   "outputs": [
    {
     "data": {
      "text/plain": [
       "10.0"
      ]
     },
     "execution_count": 20,
     "metadata": {},
     "output_type": "execute_result"
    }
   ],
   "source": [
    "price = 1.0\n",
    "inverse = false\n",
    "qty_step = 0.001\n",
    "min_qty = 10\n",
    "min_cost = 5\n",
    "contract_multiplier = 1\n",
    "calc_min_entry_qty(price, inverse, qty_step, min_qty, min_cost, contract_multiplier)"
   ]
  },
  {
   "cell_type": "code",
   "execution_count": 24,
   "metadata": {},
   "outputs": [
    {
     "data": {
      "text/plain": [
       "60.0"
      ]
     },
     "execution_count": 24,
     "metadata": {},
     "output_type": "execute_result"
    }
   ],
   "source": [
    "margin = 30\n",
    "price = 1.0\n",
    "inverse = false\n",
    "qty_step = 0.001\n",
    "contract_multiplier = 1\n",
    "leverage = 2\n",
    "calc_qty_from_margin(margin, price, inverse, qty_step, contract_multiplier, leverage)"
   ]
  },
  {
   "cell_type": "code",
   "execution_count": 29,
   "metadata": {},
   "outputs": [
    {
     "data": {
      "text/plain": [
       "1257.1428"
      ]
     },
     "execution_count": 29,
     "metadata": {},
     "output_type": "execute_result"
    }
   ],
   "source": [
    "balance = 1000\n",
    "price = 0.35\n",
    "available_margin = 500\n",
    "volatility = 0.1\n",
    "inverse = false\n",
    "qty_step = 0.0001\n",
    "min_qty = 20\n",
    "min_cost = 5\n",
    "contract_multiplier = 1\n",
    "leverage = 2\n",
    "qty_pct = 0.02\n",
    "volatility_qty_coeff = 100\n",
    "\n",
    "calc_initial_entry_qty(\n",
    "        balance,\n",
    "        price,\n",
    "        available_margin,\n",
    "        volatility,\n",
    "        inverse, \n",
    "        qty_step, \n",
    "        min_qty,\n",
    "        min_cost, \n",
    "        contract_multiplier, \n",
    "        leverage,\n",
    "        qty_pct, \n",
    "        volatility_qty_coeff\n",
    "        )"
   ]
  },
  {
   "cell_type": "code",
   "execution_count": 34,
   "metadata": {},
   "outputs": [
    {
     "data": {
      "text/plain": [
       "20.0"
      ]
     },
     "execution_count": 34,
     "metadata": {},
     "output_type": "execute_result"
    }
   ],
   "source": [
    "psize = 10\n",
    "ddown_factor = 0.5\n",
    "balance = 1000\n",
    "price = 0.35\n",
    "available_margin = 500\n",
    "volatility = 0.1\n",
    "inverse = false\n",
    "qty_step = 0.0001\n",
    "min_qty = 20\n",
    "min_cost = 5\n",
    "contract_multiplier = 1\n",
    "leverage = 2\n",
    "qty_pct = 0.02\n",
    "volatility_qty_coeff = 100\n",
    "\n",
    "calc_reentry_qty(\n",
    "        psize, \n",
    "        price, \n",
    "        available_margin, \n",
    "        inverse, \n",
    "        qty_step, \n",
    "        min_qty,\n",
    "        min_cost, \n",
    "        contract_multiplier, \n",
    "        ddown_factor, \n",
    "        leverage\n",
    ")"
   ]
  },
  {
   "cell_type": "code",
   "execution_count": 36,
   "metadata": {},
   "outputs": [
    {
     "data": {
      "text/plain": [
       "(110.0, 0.455)"
      ]
     },
     "execution_count": 36,
     "metadata": {},
     "output_type": "execute_result"
    }
   ],
   "source": [
    "psize = 10\n",
    "pprice = 0.355\n",
    "qty = 100\n",
    "price = 0.465 \n",
    "qty_step = 0.001\n",
    "\n",
    "calc_new_psize_pprice(psize, pprice, qty, price, qty_step)"
   ]
  },
  {
   "cell_type": "code",
   "execution_count": 37,
   "metadata": {},
   "outputs": [
    {
     "data": {
      "text/plain": [
       "10"
      ]
     },
     "execution_count": 37,
     "metadata": {},
     "output_type": "execute_result"
    }
   ],
   "source": [
    "entry_price, close_price, qty, inverse, contract_multiplier = 1, 2, 10, false, 1\n",
    "calc_long_pnl(entry_price, close_price, qty, inverse, contract_multiplier)"
   ]
  },
  {
   "cell_type": "code",
   "execution_count": 38,
   "metadata": {},
   "outputs": [
    {
     "data": {
      "text/plain": [
       "-10"
      ]
     },
     "execution_count": 38,
     "metadata": {},
     "output_type": "execute_result"
    }
   ],
   "source": [
    "entry_price, close_price, qty, inverse, contract_multiplier = 1, 2, 10, false, 1\n",
    "calc_shrt_pnl(entry_price, close_price, qty, inverse, contract_multiplier)"
   ]
  },
  {
   "cell_type": "code",
   "execution_count": 39,
   "metadata": {},
   "outputs": [
    {
     "data": {
      "text/plain": [
       "10.0"
      ]
     },
     "execution_count": 39,
     "metadata": {},
     "output_type": "execute_result"
    }
   ],
   "source": [
    "qty, price, inverse, contract_multiplier = 10, 1.0, false, 1\n",
    "calc_cost(qty, price, inverse, contract_multiplier)"
   ]
  },
  {
   "cell_type": "code",
   "execution_count": 40,
   "metadata": {},
   "outputs": [
    {
     "data": {
      "text/plain": [
       "2.5"
      ]
     },
     "execution_count": 40,
     "metadata": {},
     "output_type": "execute_result"
    }
   ],
   "source": [
    "qty, price, inverse, contract_multiplier, leverage = 10, 0.5, false, 1, 2\n",
    "calc_margin_cost(qty, price, inverse, contract_multiplier, leverage)"
   ]
  },
  {
   "cell_type": "code",
   "execution_count": 45,
   "metadata": {},
   "outputs": [
    {
     "data": {
      "text/plain": [
       "1548.7492065"
      ]
     },
     "execution_count": 45,
     "metadata": {},
     "output_type": "execute_result"
    }
   ],
   "source": [
    "balance = 1720.6680\n",
    "long_psize = 63\n",
    "long_pprice = 0.376769\n",
    "shrt_psize = -843\n",
    "shrt_pprice = 0.374878\n",
    "last_price = 0.37734\n",
    "inverse = false\n",
    "contract_multiplier = 1\n",
    "leverage = 2\n",
    "\n",
    "calc_available_margin(\n",
    "        balance,\n",
    "        long_psize,\n",
    "        long_pprice,\n",
    "        shrt_psize,\n",
    "        shrt_pprice,\n",
    "        last_price,\n",
    "        inverse, \n",
    "        contract_multiplier, \n",
    "        leverage\n",
    "        ) "
   ]
  },
  {
   "cell_type": "code",
   "execution_count": null,
   "metadata": {},
   "outputs": [],
   "source": [
    "iter_entries, iter_long_closes, iter_shrt_closes, iter_indicator_chunks"
   ]
  },
  {
   "cell_type": "code",
   "execution_count": 47,
   "metadata": {},
   "outputs": [],
   "source": [
    "# function calc_counter_order(\n",
    "#         balance,\n",
    "#         long_psize,\n",
    "#         long_pprice,\n",
    "#         shrt_psize,\n",
    "#         shrt_pprice,\n",
    "#         liq_price,\n",
    "#         highest_bid,\n",
    "#         lowest_ask,\n",
    "#         last_price,\n",
    "#         available_margin,\n",
    "#         inverse, \n",
    "#         do_long, \n",
    "#         do_shrt, \n",
    "#         qty_step, \n",
    "#         min_qty, \n",
    "#         min_cost, \n",
    "#         contract_multiplier,\n",
    "#         leverage, \n",
    "#         stop_loss_liq_diff,\n",
    "#         stop_loss_pos_pct, \n",
    "#         counter_order_liq_diff\n",
    "#     )\n",
    "    \n",
    "#     abs_shrt_psize = abs(shrt_psize)\n",
    "    \n",
    "#     if calc_diff(liq_price, last_price) >= counter_order_liq_diff\n",
    "#         return 0.0, 0.0, 0.0, 0.0, \" \"\n",
    "#     end\n",
    "    \n",
    "#     if long_psize > abs_shrt_psize\n",
    "#         min_entry_qty = calc_min_entry_qty(lowest_ask, inverse, qty_step, min_qty, min_cost, contract_multiplier)\n",
    "#         stop_loss_qty_ = calc_qty_from_margin(balance * stop_loss_pos_pct, lowest_ask, inverse, qty_step, contract_multiplier, leverage)\n",
    "#         stop_loss_qty = max(min_entry_qty, stop_loss_qty_)       \n",
    "#         available_margin_qty = calc_qty_from_margin(available_margin, lowest_ask, inverse, qty_step, contract_multiplier, leverage)\n",
    "#         counter_order_qty = min(stop_loss_qty, available_margin_qty)\n",
    "#         if counter_order_qty >= min_entry_qty\n",
    "#             new_shrt_psize, new_shrt_pprice = calc_new_psize_pprice(shrt_psize, shrt_pprice, -counter_order_qty, lowest_ask, qty_step)\n",
    "#             return -counter_order_qty, lowest_ask, new_shrt_psize, new_shrt_pprice, \"counter_shrt_entry\"\n",
    "#         end\n",
    "#     else\n",
    "#         min_entry_qty = calc_min_entry_qty(highest_bid, inverse, qty_step, min_qty, min_cost, contract_multiplier)\n",
    "#         stop_loss_qty_ = calc_qty_from_margin(balance * stop_loss_pos_pct, highest_bid, inverse,\n",
    "#                                          qty_step, contract_multiplier, leverage)\n",
    "#         stop_loss_qty = max(min_entry_qty, stop_loss_qty_)\n",
    "#         available_margin_qty = calc_qty_from_margin(available_margin, highest_bid, inverse, qty_step, contract_multiplier, leverage)\n",
    "#         counter_order_qty = min(stop_loss_qty, available_margin_qty)\n",
    "#         if counter_order_qty >= min_entry_qty\n",
    "#             new_long_psize, new_long_pprice = calc_new_psize_pprice(long_psize, long_pprice, counter_order_qty, highest_bid, qty_step)\n",
    "#             return counter_order_qty, highest_bid, new_long_psize, new_long_pprice, \"counter_long_entry\"\n",
    "#         end\n",
    "#     end\n",
    "    \n",
    "#     return 0.0, 0.0, 0.0, 0.0, \" \"\n",
    "# end\n",
    "    \n",
    "\n",
    "\n",
    "#  balance = 1000\n",
    "# long_psize = 120\n",
    "# long_pprice = 0.35\n",
    "# shrt_psize = -500\n",
    "# shrt_pprice = 0.11\n",
    "# liq_price = 0.25\n",
    "# highest_bid = 0.2\n",
    "# lowest_ask = 0.198\n",
    "# last_price = 0.199\n",
    "# available_margin = \n",
    "#         inverse, \n",
    "#         do_long, \n",
    "#         do_shrt, \n",
    "#         qty_step, \n",
    "#         min_qty, \n",
    "#         min_cost, \n",
    "#         contract_multiplier,\n",
    "#         leverage, \n",
    "#         stop_loss_liq_diff,\n",
    "#         stop_loss_pos_pct, \n",
    "#         counter_order_liq_diff\n",
    "# calc_counter_order(\n",
    "#         balance,\n",
    "#         long_psize,\n",
    "#         long_pprice,\n",
    "#         shrt_psize,\n",
    "#         shrt_pprice,\n",
    "#         liq_price,\n",
    "#         highest_bid,\n",
    "#         lowest_ask,\n",
    "#         last_price,\n",
    "#         available_margin,\n",
    "#         inverse, \n",
    "#         do_long, \n",
    "#         do_shrt, \n",
    "#         qty_step, \n",
    "#         min_qty, \n",
    "#         min_cost, \n",
    "#         contract_multiplier,\n",
    "#         leverage, \n",
    "#         stop_loss_liq_diff,\n",
    "#         stop_loss_pos_pct, \n",
    "#         counter_order_liq_diff\n",
    "#     )\n"
   ]
  }
 ],
 "metadata": {
  "kernelspec": {
   "display_name": "Julia 1.5.3",
   "language": "julia",
   "name": "julia-1.5"
  },
  "language_info": {
   "file_extension": ".jl",
   "mimetype": "application/julia",
   "name": "julia",
   "version": "1.5.3"
  }
 },
 "nbformat": 4,
 "nbformat_minor": 4
}
