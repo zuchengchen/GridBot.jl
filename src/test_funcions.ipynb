{
 "cells": [
  {
   "cell_type": "code",
   "execution_count": 1,
   "metadata": {},
   "outputs": [
    {
     "data": {
      "text/plain": [
       "get_klines"
      ]
     },
     "execution_count": 1,
     "metadata": {},
     "output_type": "execute_result"
    }
   ],
   "source": [
    "include(\"util.jl\")"
   ]
  },
  {
   "cell_type": "code",
   "execution_count": 2,
   "metadata": {},
   "outputs": [],
   "source": [
    "user = User(\"api_key_secrets/binance/test.json\");"
   ]
  },
  {
   "cell_type": "code",
   "execution_count": 3,
   "metadata": {},
   "outputs": [
    {
     "name": "stdout",
     "output_type": "stream",
     "text": [
      "SELL => ADAUSDT qty: 2.0, price: 3.0 \n"
     ]
    },
    {
     "data": {
      "text/plain": [
       "Dict{String,Any} with 8 entries:\n",
       "  \"price\"            => \"3.00000000\"\n",
       "  \"timeInForce\"      => \"GTC\"\n",
       "  \"side\"             => \"SELL\"\n",
       "  \"newOrderRespType\" => \"FULL\"\n",
       "  \"symbol\"           => \"ADAUSDT\"\n",
       "  \"recvWindow\"       => 10000\n",
       "  \"type\"             => \"LIMIT\"\n",
       "  \"quantity\"         => \"2.00000000\""
      ]
     },
     "execution_count": 3,
     "metadata": {},
     "output_type": "execute_result"
    }
   ],
   "source": [
    "symbol = \"ADAUSDT\"\n",
    "order_side = \"SELL\"\n",
    "order_dict = create_order_dict(symbol, order_side; \n",
    "    quantity=2.0, order_type = \"LIMIT\", price=3.0)"
   ]
  },
  {
   "cell_type": "code",
   "execution_count": 4,
   "metadata": {},
   "outputs": [],
   "source": [
    "# order = execute_order(order_dict::Dict, user)"
   ]
  },
  {
   "cell_type": "code",
   "execution_count": 5,
   "metadata": {},
   "outputs": [],
   "source": [
    "# cancel_order(order, user)"
   ]
  },
  {
   "cell_type": "code",
   "execution_count": 6,
   "metadata": {},
   "outputs": [
    {
     "data": {
      "text/plain": [
       "200"
      ]
     },
     "execution_count": 6,
     "metadata": {},
     "output_type": "execute_result"
    }
   ],
   "source": [
    "ping_future()"
   ]
  },
  {
   "cell_type": "code",
   "execution_count": 7,
   "metadata": {},
   "outputs": [
    {
     "data": {
      "text/plain": [
       "\"1614781173345\""
      ]
     },
     "execution_count": 7,
     "metadata": {},
     "output_type": "execute_result"
    }
   ],
   "source": [
    "timestamp_now()"
   ]
  },
  {
   "cell_type": "code",
   "execution_count": 8,
   "metadata": {},
   "outputs": [
    {
     "data": {
      "text/plain": [
       "\"1614816000000\""
      ]
     },
     "execution_count": 8,
     "metadata": {},
     "output_type": "execute_result"
    }
   ],
   "source": [
    "datetime_to_timestamp(\"2021-03-04\")"
   ]
  },
  {
   "cell_type": "code",
   "execution_count": 9,
   "metadata": {},
   "outputs": [
    {
     "data": {
      "text/plain": [
       "2021-03-03T14:19:33.847"
      ]
     },
     "execution_count": 9,
     "metadata": {},
     "output_type": "execute_result"
    }
   ],
   "source": [
    "get_server_time()"
   ]
  },
  {
   "cell_type": "code",
   "execution_count": 10,
   "metadata": {},
   "outputs": [
    {
     "data": {
      "text/plain": [
       "Dict{String,Any} with 5 entries:\n",
       "  \"lastUpdateId\" => 239043609698\n",
       "  \"T\"            => 1614781174358\n",
       "  \"asks\"         => Any[Any[\"1.23067\", \"60\"], Any[\"1.23069\", \"1147\"], Any[\"1.23…\n",
       "  \"bids\"         => Any[Any[\"1.23047\", \"400\"], Any[\"1.23045\", \"1520\"], Any[\"1.2…\n",
       "  \"E\"            => 1614781174363"
      ]
     },
     "execution_count": 10,
     "metadata": {},
     "output_type": "execute_result"
    }
   ],
   "source": [
    "get_depth(symbol)"
   ]
  },
  {
   "cell_type": "code",
   "execution_count": 11,
   "metadata": {},
   "outputs": [
    {
     "data": {
      "text/plain": [
       "Dict{String,Any} with 16 entries:\n",
       "  \"weightedAvgPrice\"   => \"1.22980\"\n",
       "  \"quoteVolume\"        => \"994665591.30000\"\n",
       "  \"priceChangePercent\" => \"-0.971\"\n",
       "  \"count\"              => 1089337\n",
       "  \"lastPrice\"          => \"1.23092\"\n",
       "  \"openPrice\"          => \"1.24299\"\n",
       "  \"firstId\"            => 118137332\n",
       "  \"lastQty\"            => \"5\"\n",
       "  \"openTime\"           => 1614694740000\n",
       "  \"closeTime\"          => 1614781174780\n",
       "  \"symbol\"             => \"ADAUSDT\"\n",
       "  \"priceChange\"        => \"-0.01207\"\n",
       "  \"highPrice\"          => \"1.27393\"\n",
       "  \"volume\"             => \"808800925\"\n",
       "  \"lastId\"             => 119226682\n",
       "  \"lowPrice\"           => \"1.18010\""
      ]
     },
     "execution_count": 11,
     "metadata": {},
     "output_type": "execute_result"
    }
   ],
   "source": [
    "get_24hr_ticker(symbol)"
   ]
  },
  {
   "cell_type": "code",
   "execution_count": 12,
   "metadata": {},
   "outputs": [
    {
     "data": {
      "text/plain": [
       "Dict{String,Any} with 3 entries:\n",
       "  \"price\"  => \"1.23115\"\n",
       "  \"time\"   => 1614781175073\n",
       "  \"symbol\" => \"ADAUSDT\""
      ]
     },
     "execution_count": 12,
     "metadata": {},
     "output_type": "execute_result"
    }
   ],
   "source": [
    "get_price_ticker(symbol)"
   ]
  },
  {
   "cell_type": "code",
   "execution_count": 13,
   "metadata": {},
   "outputs": [
    {
     "data": {
      "text/plain": [
       "Dict{String,Any} with 6 entries:\n",
       "  \"bidQty\"   => \"500\"\n",
       "  \"time\"     => 1614781175532\n",
       "  \"bidPrice\" => \"1.23091\"\n",
       "  \"askPrice\" => \"1.23114\"\n",
       "  \"symbol\"   => \"ADAUSDT\"\n",
       "  \"askQty\"   => \"4219\""
      ]
     },
     "execution_count": 13,
     "metadata": {},
     "output_type": "execute_result"
    }
   ],
   "source": [
    "get_book_ticker(symbol)"
   ]
  },
  {
   "cell_type": "code",
   "execution_count": 14,
   "metadata": {},
   "outputs": [
    {
     "data": {
      "text/plain": [
       "Dict{String,Any} with 6 entries:\n",
       "  \"symbols\"         => Any[Dict{String,Any}(\"orderTypes\"=>Any[\"LIMIT\", \"MARKET\"…\n",
       "  \"rateLimits\"      => Any[Dict{String,Any}(\"intervalNum\"=>1,\"interval\"=>\"MINUT…\n",
       "  \"exchangeFilters\" => Any[]\n",
       "  \"serverTime\"      => 1614781179354\n",
       "  \"timezone\"        => \"UTC\"\n",
       "  \"futuresType\"     => \"U_MARGINED\""
      ]
     },
     "execution_count": 14,
     "metadata": {},
     "output_type": "execute_result"
    }
   ],
   "source": [
    "get_Binance_info()"
   ]
  },
  {
   "cell_type": "code",
   "execution_count": 15,
   "metadata": {},
   "outputs": [
    {
     "data": {
      "text/plain": [
       "7-element Array{Any,1}:\n",
       " Any[1614211200000, \"1.04870\", \"1.17990\", \"1.01118\", \"1.07694\", \"1271954847\", 1614297599999, \"1390380385.87211\", 1425291, \"602307766\", \"658569067.60014\", \"0\"]\n",
       " Any[1614297600000, \"1.07638\", \"1.30060\", \"0.98678\", \"1.24484\", \"2252967740\", 1614383999999, \"2598409680.21436\", 2623534, \"1089383235\", \"1258205849.00233\", \"0\"]\n",
       " Any[1614384000000, \"1.24483\", \"1.48600\", \"1.22800\", \"1.31376\", \"2485085084\", 1614470399999, \"3402690829.37167\", 3185403, \"1219224693\", \"1670150405.88110\", \"0\"]\n",
       " Any[1614470400000, \"1.31406\", \"1.36312\", \"1.15415\", \"1.31320\", \"2384198651\", 1614556799999, \"2973396126.16645\", 2983197, \"1185673353\", \"1478975715.01436\", \"0\"]\n",
       " Any[1614556800000, \"1.31367\", \"1.35000\", \"1.23151\", \"1.29800\", \"1225796991\", 1614643199999, \"1574934925.13897\", 1649374, \"593635015\", \"762898027.58268\", \"0\"]\n",
       " Any[1614643200000, \"1.29823\", \"1.30159\", \"1.18010\", \"1.22294\", \"936646068\", 1614729599999, \"1147254364.04263\", 1294311, \"448121145\", \"548920944.39133\", \"0\"]\n",
       " Any[1614729600000, \"1.22288\", \"1.26997\", \"1.20786\", \"1.23028\", \"387499414\", 1614815999999, \"481334699.72504\", 519433, \"183058358\", \"227461552.27494\", \"0\"]"
      ]
     },
     "execution_count": 15,
     "metadata": {},
     "output_type": "execute_result"
    }
   ],
   "source": [
    "get_klines(symbol, start_datetime=\"2021-02-25\", end_datetime=\"2021-03-03\", interval=\"1d\")"
   ]
  },
  {
   "cell_type": "code",
   "execution_count": null,
   "metadata": {},
   "outputs": [],
   "source": []
  }
 ],
 "metadata": {
  "kernelspec": {
   "display_name": "Julia 1.5.3",
   "language": "julia",
   "name": "julia-1.5"
  },
  "language_info": {
   "file_extension": ".jl",
   "mimetype": "application/julia",
   "name": "julia",
   "version": "1.5.3"
  }
 },
 "nbformat": 4,
 "nbformat_minor": 4
}
