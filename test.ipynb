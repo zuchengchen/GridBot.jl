{
 "cells": [
  {
   "cell_type": "code",
   "execution_count": 1,
   "metadata": {},
   "outputs": [],
   "source": [
    "include(\"src/init.jl\")\n",
    "# import Indicators\n",
    "using PyPlot\n",
    "\n",
    "user = User(\"api_key_secrets/binance/test.json\");\n",
    "\n",
    "symbol = \"MATICUSDT\"\n",
    "# order_side = \"SELL\"\n",
    "# order_dict = create_order_dict(symbol, order_side; \n",
    "#     quantity=2.0, order_type = \"LIMIT\", price=3.0)"
   ]
  },
  {
   "cell_type": "code",
   "execution_count": 2,
   "metadata": {},
   "outputs": [
    {
     "name": "stdout",
     "output_type": "stream",
     "text": [
      "Ping succeed.\n",
      "Datetime is earlier than the earliest time of MATICUSDT !\n",
      "Using the earliest datetime of 2020-10-22T07:01:36.789\n",
      "Fetch ticks of MATICUSDT from 2019-10-23T00:00:00 to 2021-01-28T00:00:00...\n",
      "Fetch ticks of MATICUSDT with id from 1 to 2336128 ...\n",
      "-----------------------------------------------\n"
     ]
    },
    {
     "name": "stderr",
     "output_type": "stream",
     "text": [
      "\u001b[32mFetching ticks...100%|██████████████████████████████████| Time: 0:00:01\u001b[39m\n"
     ]
    },
    {
     "name": "stdout",
     "output_type": "stream",
     "text": [
      "Fetch ticks... Done!\n",
      "\n",
      "\n"
     ]
    }
   ],
   "source": [
    "ticks = get_agg_trades(symbol, \"2019-10-23T00:00\", \"2021-01-28T00:00\")\n",
    "t1 = 1\n",
    "t2 = 800000\n",
    "Close = ticks[t1:t2, \"price\"];\n",
    "\n",
    "t = ticks[t1:t2, \"trade_id\"];\n",
    "\n",
    "tss = ticks[t1:t2, \"timestamp\"];"
   ]
  },
  {
   "cell_type": "code",
   "execution_count": 12,
   "metadata": {},
   "outputs": [],
   "source": [
    "# function backtest(ticks, settings)\n",
    "#     ss = settings\n",
    "    \n",
    "#     pos_size, pos_price, reentry_price, reentry_qty, liq_price = 0.0, 0.0, 0.0, 0.0, 0.0\n",
    "#     closest_long_liq, closest_shrt_liq = 1.0, 1.0\n",
    "#     stop_loss_liq_diff_price, stop_loss_pos_price_diff_price, stop_loss_price = 0.0, 0.0, 0.0\n",
    "#     actual_balance = ss[\"starting_balance\"]\n",
    "#     apparent_balance = actual_balance * ss[\"balance_pct\"]\n",
    "    \n",
    "#     leverage = ss[\"leverage\"]\n",
    "\n",
    "#     net_pnl_plus_fees, loss_sum, profit_sum = 0.0, 0.0, 0.0\n",
    "#     max_balance = actual_balance\n",
    "#     max_drawdown = 0.0\n",
    "    \n",
    "#     min_trade_delay_millis = (\"latency_simulation_ms\" in ss) ? ss[\"latency_simulation_ms\"] : 1000\n",
    "    \n",
    "#     if true\n",
    "#         min_qty_f = calc_min_qty_linear\n",
    "#         long_pnl_f = calc_long_pnl_linear\n",
    "#         shrt_pnl_f = calc_shrt_pnl_linear\n",
    "#         cost_f = calc_cost_linear\n",
    "#         pos_margin_f = calc_margin_cost_linear\n",
    "#         max_pos_size_f = calc_max_pos_size_linear\n",
    "#         min_entry_qty_f = calc_min_entry_qty_linear\n",
    "#         long_liq_price_f(bal, psize, pprice) = binance_calc_cross_long_liq_price(bal, psize, pprice, leverage)\n",
    "#         shrt_liq_price_f(bal, psize, pprice) = binance_calc_cross_shrt_liq_price(bal, psize, pprice, leverage)\n",
    "#     end\n",
    "    \n",
    "    "
   ]
  },
  {
   "cell_type": "code",
   "execution_count": 10,
   "metadata": {},
   "outputs": [
    {
     "data": {
      "text/plain": [
       "calc_cross_shrt_liq_price"
      ]
     },
     "execution_count": 10,
     "metadata": {},
     "output_type": "execute_result"
    }
   ],
   "source": [
    "include(\"src/binance.jl\")"
   ]
  },
  {
   "cell_type": "code",
   "execution_count": 13,
   "metadata": {},
   "outputs": [
    {
     "data": {
      "text/plain": [
       "1972.8233517866129"
      ]
     },
     "execution_count": 13,
     "metadata": {},
     "output_type": "execute_result"
    }
   ],
   "source": [
    "calc_cross_long_liq_price(100, 2.5, 2000, 50)"
   ]
  },
  {
   "cell_type": "code",
   "execution_count": 14,
   "metadata": {},
   "outputs": [],
   "source": []
  },
  {
   "cell_type": "code",
   "execution_count": 15,
   "metadata": {},
   "outputs": [
    {
     "data": {
      "text/plain": [
       "Account(100, 100, 100, 0.0, NaN, NaN, NaN, NaN, 1.0, 1.0, 0.0, 0.0, 0.0, 0.0, 20, 0.5, 0.01, 1.5, Any[])"
      ]
     },
     "execution_count": 15,
     "metadata": {},
     "output_type": "execute_result"
    }
   ],
   "source": []
  },
  {
   "cell_type": "code",
   "execution_count": 16,
   "metadata": {},
   "outputs": [],
   "source": [
    "# ids = ticks[!, \"trade_id\"]\n",
    "prices = ticks[!, \"price\"]\n",
    "# tss = ticks[!, \"timestamp\"]\n",
    "\n",
    "macds = ID.macd(prices)[:,3]\n",
    "ccis = acci(prices);\n",
    "ticks[!, \"macd\"] = macds\n",
    "ticks[!, \"cci\"] = ccis;"
   ]
  },
  {
   "cell_type": "code",
   "execution_count": 19,
   "metadata": {},
   "outputs": [
    {
     "data": {
      "text/plain": [
       "create_order (generic function with 1 method)"
      ]
     },
     "execution_count": 19,
     "metadata": {},
     "output_type": "execute_result"
    }
   ],
   "source": [
    "calc_reentry_price(a::Account) = a.entry_price * (1.0 - sign(a.pos_size) * a.reentry_price_factor)\n",
    "\n",
    "function calc_reentry_pos!(a::Account) \n",
    "    a.reentry_pos = a.pos_size * a.reentry_factor / (1 - a.reentry_factor)\n",
    "end\n",
    "        \n",
    "function create_order!(a::Account, pos_size, entry_price) \n",
    "    a.order = [pos_size, entry_price]\n",
    "end"
   ]
  },
  {
   "cell_type": "code",
   "execution_count": 17,
   "metadata": {},
   "outputs": [
    {
     "data": {
      "text/plain": [
       "create_order (generic function with 1 method)"
      ]
     },
     "execution_count": 17,
     "metadata": {},
     "output_type": "execute_result"
    }
   ],
   "source": [
    "function execute_order(a::Account)\n",
    "    new_pos_size, new_entry_price = a.order\n",
    "    if (new_pos_size > 0.0) && (price <= new_entry_price)\n",
    "        new_notional_balance = new_pos_size * new_entry_price\n",
    "        a.notional_balance += new_notional_balance\n",
    "        a.pos_size += new_pos_size\n",
    "        a.entry_price = a.notional_balance / a.pos_size\n",
    "        a.reentry_price = calc_reentry_price(a) \n",
    "        end\n",
    "    elseif pos_siz < 0.0\n",
    "        continue\n",
    "    end\n",
    "end"
   ]
  },
  {
   "cell_type": "code",
   "execution_count": 21,
   "metadata": {},
   "outputs": [],
   "source": [
    "# trades = []\n",
    "# macd = macd1 = macd2 = NaN\n",
    "# for tick in Tables.namedtupleiterator(ticks)\n",
    "#     macd2 = macd1\n",
    "#     macd1 = macd\n",
    "#     trade_id, price, qty, timestamp, is_buyer_maker, macd, cci = tick\n",
    "#     did_trade = false\n",
    "#     if (macd === NaN) || (cci === NaN)\n",
    "#         continue\n",
    "#     end\n",
    "    \n",
    "#     long_condition = (cci < -100) && (macd2 > macd1) && (macd1 < macd < 0)\n",
    "#     short_condition = (cci > 100) && (macd2 < macd1) && (macd1 > macd > 0)\n",
    "    \n",
    "#     if pos_size == 0.0\n",
    "#         if long_condition\n",
    "#             create_long()\n",
    "#         elseif short_condition\n",
    "#             create_short()\n",
    "#         end\n",
    "#     elseif pos_size > 0.0\n",
    "#         if long_condition && price < reentry_long_price\n",
    "#             create_long()\n",
    "#         elseif short_condition && price > target_long_price\n",
    "#             create_short()\n",
    "#         end\n",
    "#     elseif pos_size < 0.0\n",
    "#         if long_condition && price < target_short_price\n",
    "#             create_long()\n",
    "#         elseif short_condition && price > reentry_short_price\n",
    "#             create_short()\n",
    "#         end\n",
    "#     end\n",
    "            \n",
    "# end"
   ]
  },
  {
   "cell_type": "code",
   "execution_count": 40,
   "metadata": {},
   "outputs": [
    {
     "data": {
      "text/plain": [
       "\"2021-05-20T00:00:00\""
      ]
     },
     "execution_count": 40,
     "metadata": {},
     "output_type": "execute_result"
    }
   ],
   "source": [
    "symbol = \"MATICUSDT\"\n",
    "start_datetime = \"2021-05-19T00:00:00\"\n",
    "end_datetime = \"2021-05-20T00:00:00\""
   ]
  },
  {
   "cell_type": "code",
   "execution_count": 165,
   "metadata": {},
   "outputs": [
    {
     "data": {
      "text/plain": [
       "format_float (generic function with 1 method)"
      ]
     },
     "execution_count": 165,
     "metadata": {},
     "output_type": "execute_result"
    }
   ],
   "source": [
    "include(\"src/jitted.jl\")"
   ]
  },
  {
   "cell_type": "code",
   "execution_count": 189,
   "metadata": {},
   "outputs": [
    {
     "name": "stdout",
     "output_type": "stream",
     "text": [
      "Ping succeed.\n",
      "Fetch MATICUSDT agg trades from 2019-10-23T00:00:00 to 2021-01-28T00:00:00...\n",
      "Datetime is earlier than the earliest time of MATICUSDT !\n",
      "Using the earliest datetime of 2020-10-22T07:01:36.789\n",
      "Fetch MATICUSDT trades with id from 1 to 2336128 ...\n",
      "-----------------------------------------------\n"
     ]
    },
    {
     "name": "stderr",
     "output_type": "stream",
     "text": [
      "\u001b[32mFetching ticks...100%|██████████████████████████████████| Time: 0:00:00\u001b[39m\n"
     ]
    },
    {
     "name": "stdout",
     "output_type": "stream",
     "text": [
      "Fetch ticks.. Done!\n"
     ]
    }
   ],
   "source": [
    "ticks = get_agg_trades(symbol, \"2019-10-23T00:00\", \"2021-01-28T00:00\")\n",
    "t1 = 1\n",
    "t2 = 800000\n",
    "Close = ticks[t1:t2, \"price\"];\n",
    "\n",
    "t = ticks[t1:t2, \"trade_id\"];\n",
    "\n",
    "tss = ticks[t1:t2, \"timestamp\"];"
   ]
  },
  {
   "cell_type": "code",
   "execution_count": 18,
   "metadata": {},
   "outputs": [],
   "source": [
    "path = \"/home/bear/projects/working/stock/GridBot.jl/historical_data/MATICUSDT/cache/9900001-10000000.csv\"\n",
    "df = CSV.read(path, DataFrame);\n",
    "\n",
    "ticks = Matrix(df[:, [\"price\", \"is_buyer_maker\", \"timestamp\"]]);"
   ]
  },
  {
   "cell_type": "code",
   "execution_count": 45,
   "metadata": {},
   "outputs": [],
   "source": [
    "xs = ticks[:, 1];\n",
    "calc_ema(0.1230, 0.1399, 120)\n",
    "calc_emas(xs, 10000);"
   ]
  },
  {
   "cell_type": "code",
   "execution_count": 54,
   "metadata": {},
   "outputs": [
    {
     "data": {
      "text/plain": [
       "([0.0, 0.0, 0.0, 0.0, 0.0, 0.0, 0.0, 0.0, 0.0, 0.0], 4.8848899999999995, 1.1931076597)"
      ]
     },
     "execution_count": 54,
     "metadata": {},
     "output_type": "execute_result"
    }
   ],
   "source": [
    "function iter_indicator_chunks(xs, span, chunk_size=65536)\n",
    "\n",
    "    if len(xs) < span\n",
    "        return\n",
    "    end\n",
    "\n",
    "    chunk_size = max(chunk_size, span)\n",
    "\n",
    "    n_chunks = Int(round_up(len(xs) / chunk_size, 1.0))\n",
    "\n",
    "    alpha = 2 / (span + 1)\n",
    "    alpha_ = 1 - alpha\n",
    "\n",
    "    emas = calc_emas_(alpha, alpha_, chunk_size, xs, xs[0], 0)\n",
    "    stds, xsum, xsum_sq = calc_first_stds(chunk_size, span, xs)\n",
    "\n",
    "#     yield emas, stds, 0\n",
    "\n",
    "    for k in 1:n_chunks\n",
    "        kc = chunk_size * k\n",
    "        new_emas = calc_emas_(alpha, alpha_, chunk_size, xs, emas[end] * alpha_ + xs[kc] * alpha, kc)\n",
    "        new_stds, xsum, xsum_sq = calc_stds_(chunk_size, span, xs, xsum, xsum_sq, kc)\n",
    "#         yield new_emas, new_stds, k\n",
    "        emas, stds = new_emas, new_stds\n",
    "    end\n",
    "end"
   ]
  },
  {
   "cell_type": "code",
   "execution_count": null,
   "metadata": {},
   "outputs": [],
   "source": [
    "function calc_available_margin(\n",
    "        balance,\n",
    "        long_psize,\n",
    "        long_pprice,\n",
    "        shrt_psize,\n",
    "        shrt_pprice,\n",
    "        last_price,\n",
    "        inverse, \n",
    "        contract_multiplier,\n",
    "        leverage\n",
    "        ) \n",
    "    \n",
    "    used_margin = 0.0\n",
    "    equity = balance\n",
    "    if long_pprice & long_psize\n",
    "        long_psize_real = long_psize * contract_multiplier\n",
    "        equity += calc_long_pnl(long_pprice, last_price, long_psize_real, inverse,\n",
    "                                contract_multiplier)\n",
    "        used_margin += calc_cost(long_psize_real, long_pprice,\n",
    "                                 inverse, contract_multiplier) / leverage\n",
    "    end\n",
    "    \n",
    "    if shrt_pprice and shrt_psize\n",
    "        shrt_psize_real = shrt_psize * contract_multiplier\n",
    "        equity += calc_shrt_pnl(shrt_pprice, last_price, shrt_psize_real, inverse,\n",
    "                                contract_multiplier)\n",
    "        used_margin += calc_cost(shrt_psize_real, shrt_pprice,\n",
    "                                 inverse, contract_multiplier) / leverage\n",
    "    end\n",
    "    \n",
    "    max(0.0, equity - used_margin)\n",
    "end"
   ]
  },
  {
   "cell_type": "code",
   "execution_count": 3,
   "metadata": {},
   "outputs": [
    {
     "data": {
      "text/plain": [
       "calc_bankruptcy_price (generic function with 1 method)"
      ]
     },
     "execution_count": 3,
     "metadata": {},
     "output_type": "execute_result"
    }
   ],
   "source": []
  },
  {
   "cell_type": "code",
   "execution_count": 5,
   "metadata": {},
   "outputs": [
    {
     "data": {
      "text/plain": [
       "42.89053166666667"
      ]
     },
     "execution_count": 5,
     "metadata": {},
     "output_type": "execute_result"
    }
   ],
   "source": [
    "balance = 1000.0\n",
    "long_psize = 500\n",
    "long_pprice = 1.84415\n",
    "shrt_psize = -524\n",
    "shrt_pprice = 1.81574\n",
    "inverse = false\n",
    "contract_multiplier = 1.0\n",
    "\n",
    "calc_bankruptcy_price(\n",
    "        balance,\n",
    "        long_psize,\n",
    "        long_pprice,\n",
    "        shrt_psize,\n",
    "        shrt_pprice,\n",
    "        inverse, \n",
    "        contract_multiplier\n",
    "    )"
   ]
  },
  {
   "cell_type": "code",
   "execution_count": 18,
   "metadata": {},
   "outputs": [
    {
     "data": {
      "text/plain": [
       "calc_liq_price_binance (generic function with 1 method)"
      ]
     },
     "execution_count": 18,
     "metadata": {},
     "output_type": "execute_result"
    }
   ],
   "source": []
  },
  {
   "cell_type": "code",
   "execution_count": 23,
   "metadata": {},
   "outputs": [
    {
     "data": {
      "text/plain": [
       "(29.345358060747653, 41.86604416666666, 1.426666666666667)"
      ]
     },
     "execution_count": 23,
     "metadata": {},
     "output_type": "execute_result"
    }
   ],
   "source": [
    "balance = 975.4123\n",
    "long_psize = 500\n",
    "long_pprice = 1.84415\n",
    "shrt_psize = -524\n",
    "shrt_pprice = 1.81574\n",
    "inverse = false\n",
    "contract_multiplier = 1.0\n",
    "leverage = 2\n",
    "\n",
    "liq_price = calc_liq_price_binance(\n",
    "        balance,\n",
    "        long_psize,\n",
    "        long_pprice,\n",
    "        shrt_psize,\n",
    "        shrt_pprice,\n",
    "        inverse, \n",
    "        contract_multiplier, \n",
    "        leverage)\n",
    "\n",
    "bankruptcy_price = calc_bankruptcy_price(\n",
    "        balance,\n",
    "        long_psize,\n",
    "        long_pprice,\n",
    "        shrt_psize,\n",
    "        shrt_pprice,\n",
    "        inverse, \n",
    "        contract_multiplier\n",
    "    )\n",
    "\n",
    "liq_price, bankruptcy_price, bankruptcy_price/liq_price"
   ]
  },
  {
   "cell_type": "code",
   "execution_count": null,
   "metadata": {},
   "outputs": [],
   "source": [
    "def calc_stop_loss(balance,\n",
    "                   long_psize,\n",
    "                   long_pprice,\n",
    "                   shrt_psize,\n",
    "                   shrt_pprice,\n",
    "                   liq_price,\n",
    "                   highest_bid,\n",
    "                   lowest_ask,\n",
    "                   last_price,\n",
    "                   available_margin,\n",
    "                   inverse, do_long, do_shrt, qty_step, min_qty, min_cost, contract_multiplier,\n",
    "                   leverage, stop_loss_liq_diff, stop_loss_pos_pct):\n",
    "    # returns (qty, price, psize if taken, pprice if taken, comment)\n",
    "    abs_shrt_psize = abs(shrt_psize)\n",
    "    if calc_diff(liq_price, last_price) < stop_loss_liq_diff:\n",
    "        if long_psize > abs_shrt_psize:\n",
    "            stop_loss_qty = min(long_psize,\n",
    "                                max(calc_min_entry_qty(lowest_ask, inverse, qty_step, min_qty,\n",
    "                                                       min_cost, contract_multiplier),\n",
    "                                    round_dn(long_psize * stop_loss_pos_pct, qty_step)))\n",
    "            # if sufficient margin available, increase short pos, otherwise reduce long pos\n",
    "            margin_cost = calc_margin_cost(stop_loss_qty, lowest_ask, inverse, contract_multiplier,\n",
    "                                           leverage)\n",
    "            if margin_cost < available_margin and do_shrt:\n",
    "                # add to shrt pos\n",
    "                shrt_psize, shrt_pprice = calc_new_psize_pprice(shrt_psize, shrt_pprice,\n",
    "                                                                -stop_loss_qty, lowest_ask,\n",
    "                                                                qty_step)\n",
    "                return -stop_loss_qty, lowest_ask, shrt_psize, shrt_pprice, 'stop_loss_shrt_entry'\n",
    "            else:\n",
    "                # reduce long pos\n",
    "                long_psize = round_(long_psize - stop_loss_qty, qty_step)\n",
    "                return -stop_loss_qty, lowest_ask, long_psize, long_pprice, 'stop_loss_long_close'\n",
    "        else:\n",
    "            stop_loss_qty = min(abs_shrt_psize,\n",
    "                                max(calc_min_entry_qty(highest_bid, inverse, qty_step, min_qty,\n",
    "                                                       min_cost, contract_multiplier),\n",
    "                                    round_dn(abs_shrt_psize * stop_loss_pos_pct, qty_step)))\n",
    "            # if sufficient margin available, increase long pos, otherwise, reduce shrt pos\n",
    "            margin_cost = calc_margin_cost(stop_loss_qty, highest_bid, inverse, contract_multiplier,\n",
    "                                           leverage)\n",
    "            if margin_cost < available_margin and do_long:\n",
    "                # add to long pos\n",
    "                long_psize, long_pprice = calc_new_psize_pprice(long_psize, long_pprice,\n",
    "                                                                stop_loss_qty, highest_bid,\n",
    "                                                                qty_step)\n",
    "                return stop_loss_qty, highest_bid, long_psize, long_pprice, 'stop_loss_long_entry'\n",
    "            else:\n",
    "                # reduce shrt pos\n",
    "                shrt_psize = round_(shrt_psize + stop_loss_qty, qty_step)\n",
    "                return stop_loss_qty, highest_bid, shrt_psize, shrt_pprice, 'stop_loss_shrt_close'\n",
    "    return 0.0, 0.0, 0.0, 0.0, ''"
   ]
  }
 ],
 "metadata": {
  "kernelspec": {
   "display_name": "Julia 1.5.3",
   "language": "julia",
   "name": "julia-1.5"
  },
  "language_info": {
   "file_extension": ".jl",
   "mimetype": "application/julia",
   "name": "julia",
   "version": "1.5.3"
  }
 },
 "nbformat": 4,
 "nbformat_minor": 4
}
